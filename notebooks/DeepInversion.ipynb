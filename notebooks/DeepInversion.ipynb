{
 "cells": [
  {
   "cell_type": "code",
   "execution_count": 1,
   "source": [
    "%load_ext autoreload\n",
    "%autoreload 2"
   ],
   "outputs": [],
   "metadata": {
    "scrolled": true
   }
  },
  {
   "cell_type": "code",
   "execution_count": 2,
   "source": [
    "import sys"
   ],
   "outputs": [],
   "metadata": {}
  },
  {
   "cell_type": "code",
   "execution_count": 3,
   "source": [
    "sys.path.append(\"/home/jellouli/dataset-distillation/external/DeepInversion/cifar10\")"
   ],
   "outputs": [],
   "metadata": {
    "scrolled": true
   }
  },
  {
   "cell_type": "code",
   "execution_count": 4,
   "source": [
    "TEACHER_WEIGHTS_PATH = \"/home/jellouli/dataset-distillation/model_weights/final_state_resnet.tar\""
   ],
   "outputs": [],
   "metadata": {}
  },
  {
   "cell_type": "code",
   "execution_count": 5,
   "source": [
    "CIFAR10_PATH = '/mlodata1/jellouli'"
   ],
   "outputs": [],
   "metadata": {}
  },
  {
   "cell_type": "code",
   "execution_count": 6,
   "source": [
    "import torch\n",
    "import matplotlib.pyplot as plt\n",
    "from torchvision.datasets import CIFAR10\n",
    "import torchvision.transforms as T\n",
    "from torch.utils.data import DataLoader\n",
    "import torch.nn as nn\n",
    "from resnet_cifar import ResNet18\n",
    "import collections\n",
    "import random\n",
    "import tqdm"
   ],
   "outputs": [],
   "metadata": {}
  },
  {
   "cell_type": "markdown",
   "source": [
    "# Model training\n",
    "- Resnet18\n",
    "- Check that training was successful\n",
    "- validate loss on cifar10 datase"
   ],
   "metadata": {}
  },
  {
   "cell_type": "code",
   "execution_count": 10,
   "source": [
    "model = ResNet18()"
   ],
   "outputs": [],
   "metadata": {}
  },
  {
   "cell_type": "code",
   "execution_count": 11,
   "source": [
    "training_state = torch.load(TEACHER_WEIGHTS_PATH)"
   ],
   "outputs": [],
   "metadata": {}
  },
  {
   "cell_type": "code",
   "execution_count": 12,
   "source": [
    "training_state.keys()"
   ],
   "outputs": [
    {
     "output_type": "execute_result",
     "data": {
      "text/plain": [
       "dict_keys(['train_losses', 'test_losses', 'test_accs', 'best_acc', 'best_model'])"
      ]
     },
     "metadata": {},
     "execution_count": 12
    }
   ],
   "metadata": {}
  },
  {
   "cell_type": "code",
   "execution_count": 13,
   "source": [
    "plt.plot(training_state['train_losses'],label='train losses')\n",
    "plt.plot(training_state['test_losses'], label='test_losses')\n",
    "plt.plot(training_state['test_accs'], label='test_accs')\n",
    "plt.yscale('log')\n",
    "plt.legend()\n",
    "plt.grid()\n",
    "plt.show()"
   ],
   "outputs": [
    {
     "output_type": "display_data",
     "data": {
      "image/png": "[encoded data removed]",
      "text/plain": [
       "<Figure size 432x288 with 1 Axes>"
      ]
     },
     "metadata": {
      "needs_background": "light"
     }
    }
   ],
   "metadata": {
    "scrolled": true
   }
  },
  {
   "cell_type": "code",
   "execution_count": 14,
   "source": [
    "print(training_state['best_acc'])"
   ],
   "outputs": [
    {
     "output_type": "stream",
     "name": "stdout",
     "text": [
      "tensor(0.9265, device='cuda:0')\n"
     ]
    }
   ],
   "metadata": {
    "scrolled": true
   }
  },
  {
   "cell_type": "code",
   "execution_count": 15,
   "source": [
    "model.load_state_dict(training_state['best_model'])"
   ],
   "outputs": [
    {
     "output_type": "execute_result",
     "data": {
      "text/plain": [
       "<All keys matched successfully>"
      ]
     },
     "metadata": {},
     "execution_count": 15
    }
   ],
   "metadata": {}
  },
  {
   "cell_type": "code",
   "execution_count": 24,
   "source": [
    "test_transform = T.Compose(\n",
    "        [T.ToTensor()]) #, T.Normalize((0.4914, 0.4822, 0.4465), (0.2023, 0.1994, 0.2010))])\n",
    "eval_set = CIFAR10(CIFAR10_PATH, train=False , transform=test_transform)"
   ],
   "outputs": [],
   "metadata": {}
  },
  {
   "cell_type": "code",
   "execution_count": 35,
   "source": [
    "model.eval()\n",
    "model.cuda()\n",
    "with torch.no_grad():\n",
    "    num_correct = 0\n",
    "    for images, labels in DataLoader(eval_set,batch_size=4096):\n",
    "        result = model(images.cuda())\n",
    "        pred = result.argmax(1)\n",
    "        num_correct += (pred == labels.cuda()).sum()\n",
    "    print(float(num_correct / len(eval_set)))"
   ],
   "outputs": [
    {
     "output_type": "stream",
     "name": "stdout",
     "text": [
      "0.9259999990463257\n"
     ]
    }
   ],
   "metadata": {}
  },
  {
   "cell_type": "code",
   "execution_count": 36,
   "source": [],
   "outputs": [],
   "metadata": {}
  },
  {
   "cell_type": "markdown",
   "source": [
    "# DeepInversion\n",
    "- Apply deep inversion to the above model in order to generate images"
   ],
   "metadata": {}
  },
  {
   "cell_type": "code",
   "execution_count": 15,
   "source": [
    "from deepinversion_cifar10 import get_images"
   ],
   "outputs": [
    {
     "output_type": "stream",
     "name": "stdout",
     "text": [
      "Please install apex from https://www.github.com/nvidia/apex to run this example.\n",
      "will attempt to run without it\n"
     ]
    }
   ],
   "metadata": {
    "scrolled": true
   }
  },
  {
   "cell_type": "code",
   "execution_count": 37,
   "source": [
    "class DeepInversionFeatureHook:\n",
    "    \"\"\"\n",
    "    Implementation of the forward hook to track feature statistics and compute a loss on them.\n",
    "    Will compute mean and variance, and will use l2 as a loss\n",
    "    \"\"\"\n",
    "\n",
    "    def __init__(self, module):\n",
    "        self.hook = module.register_forward_hook(self.hook_fn)\n",
    "\n",
    "    def hook_fn(self, module, input, output):\n",
    "        # hook co compute deepinversion's feature distribution regularization\n",
    "        nch = input[0].shape[1]\n",
    "        \n",
    "        mean = input[0].mean([0, 2, 3])\n",
    "        var = (\n",
    "            input[0]\n",
    "            .permute(1, 0, 2, 3)\n",
    "            .contiguous()\n",
    "            .view([nch, -1])\n",
    "            .var(1, unbiased=False)\n",
    "        )\n",
    "\n",
    "        # forcing mean and variance to match between two distributions\n",
    "        # other ways might work better, e.g. KL divergence\n",
    "        r_feature = torch.norm(\n",
    "            module.running_var.data.type(var.type()) - var, 2\n",
    "        ) + torch.norm(module.running_mean.data.type(var.type()) - mean, 2)\n",
    "\n",
    "        self.r_feature = r_feature\n",
    "        # must have no output\n",
    "\n",
    "    def close(self):\n",
    "        self.hook.remove()"
   ],
   "outputs": [],
   "metadata": {}
  },
  {
   "cell_type": "code",
   "execution_count": 9,
   "source": [
    "5e-5 == 0.00005"
   ],
   "outputs": [
    {
     "output_type": "execute_result",
     "data": {
      "text/plain": [
       "True"
      ]
     },
     "metadata": {},
     "execution_count": 9
    }
   ],
   "metadata": {}
  },
  {
   "cell_type": "code",
   "execution_count": 38,
   "source": [
    "def get_images(\n",
    "    net,\n",
    "    bs=256,\n",
    "    epochs=1000,\n",
    "    l2_coeff=0.0,\n",
    "    var_scale=0.00005,\n",
    "    bn_reg_scale=0.0,\n",
    "    optimizer=None,\n",
    "    student_net=None,\n",
    "    inputs=None,\n",
    "):\n",
    "    best_cost = 1e6\n",
    "    net.eval()\n",
    "    \n",
    "    # initialize gaussian inputs\n",
    "    inputs.data = torch.randn((bs, 3, 32, 32), requires_grad=True, device=\"cuda\")\n",
    "    \n",
    "    if student_net:\n",
    "        optimizer_student = torch.optim.SGD(student_net.parameters(), lr=0.1, momentum=0.9, weight_decay=5e-4)\n",
    "        criterion_student = nn.CrossEntropyLoss()\n",
    "        \n",
    "    # set up criteria for optimization\n",
    "    criterion = nn.CrossEntropyLoss()\n",
    "\n",
    "    optimizer.state = collections.defaultdict(dict)  # Reset state of optimizer\n",
    "\n",
    "    # target outputs to generate\n",
    "    targets = torch.LongTensor([random.randint(0, 9) for _ in range(bs)]).to(\"cuda\")\n",
    "    \n",
    "    # Create hooks for feature statistics catching\n",
    "    loss_r_feature_layers = []\n",
    "    for module in net.modules():\n",
    "        if isinstance(module, nn.BatchNorm2d):\n",
    "            loss_r_feature_layers.append(DeepInversionFeatureHook(module))\n",
    "\n",
    "    # setting up the range for jitter\n",
    "    lim_0, lim_1 = 2, 2\n",
    "\n",
    "    for epoch in tqdm.tqdm(range(epochs)):\n",
    "        # apply random jitter offsets\n",
    "        off1 = random.randint(-lim_0, lim_0)\n",
    "        off2 = random.randint(-lim_1, lim_1)\n",
    "        inputs_jit = torch.roll(inputs, shifts=(off1, off2), dims=(2, 3))\n",
    "\n",
    "        # foward with jit images\n",
    "        optimizer.zero_grad()\n",
    "        outputs = net(inputs_jit)\n",
    "        loss = criterion(outputs, targets)\n",
    "        loss_target = loss.item()\n",
    "        \n",
    "        if student_net:\n",
    "            optimizer_student.zero_grad()\n",
    "            loss_student = criterion_student(student_net(inputs_jit), targets)\n",
    "            loss_student.backward()\n",
    "            optimizer_student.step()\n",
    "\n",
    "        # apply total variation regularization\n",
    "        diff1 = inputs_jit[:, :, :, :-1] - inputs_jit[:, :, :, 1:]\n",
    "        diff2 = inputs_jit[:, :, :-1, :] - inputs_jit[:, :, 1:, :]\n",
    "        diff3 = inputs_jit[:, :, 1:, :-1] - inputs_jit[:, :, :-1, 1:]\n",
    "        diff4 = inputs_jit[:, :, :-1, :-1] - inputs_jit[:, :, 1:, 1:]\n",
    "        loss_var = (\n",
    "            torch.norm(diff1)\n",
    "            + torch.norm(diff2)\n",
    "            + torch.norm(diff3)\n",
    "            + torch.norm(diff4)\n",
    "        )\n",
    "        loss = loss + var_scale * loss_var\n",
    "\n",
    "        # R_feature loss\n",
    "        loss_distr = sum([mod.r_feature for mod in loss_r_feature_layers])\n",
    "        loss = loss + bn_reg_scale * loss_distr  # best for noise before BN\n",
    "\n",
    "        loss = loss + l2_coeff * torch.norm(inputs_jit, 2)\n",
    "\n",
    "        if best_cost > loss.item():\n",
    "            best_cost = loss.item()\n",
    "            best_inputs = inputs.data\n",
    "        loss.backward()\n",
    "        optimizer.step()\n",
    "\n",
    "    return best_inputs, targets, student_net"
   ],
   "outputs": [],
   "metadata": {}
  },
  {
   "cell_type": "code",
   "execution_count": 73,
   "source": [
    "bs = 256\n",
    "lr = 0.05\n",
    "l2_scale = 0\n",
    "var_scale = 2.5e-5"
   ],
   "outputs": [],
   "metadata": {}
  },
  {
   "cell_type": "code",
   "execution_count": 74,
   "source": [
    "inputs = torch.randn((bs, 3, 32, 32), requires_grad=True, device='cuda')\n",
    "optimizer_di = torch.optim.Adam([inputs], lr=lr)"
   ],
   "outputs": [],
   "metadata": {}
  },
  {
   "cell_type": "code",
   "execution_count": 75,
   "source": [
    "images, targets, student_net = get_images(model, \n",
    "                   bs=256,\n",
    "                   epochs=2000,\n",
    "                   var_scale=var_scale,\n",
    "                   optimizer = optimizer_di,\n",
    "                   inputs = inputs,\n",
    "                   bn_reg_scale=100,\n",
    "                   student_net=ResNet18().cuda(),\n",
    "                   l2_coeff=l2_scale)"
   ],
   "outputs": [
    {
     "output_type": "stream",
     "name": "stderr",
     "text": [
      "100%|██████████| 2000/2000 [23:11<00:00,  1.44it/s]\n"
     ]
    }
   ],
   "metadata": {
    "scrolled": true
   }
  },
  {
   "cell_type": "code",
   "execution_count": 39,
   "source": [
    "images = torch.load('images.tar')"
   ],
   "outputs": [],
   "metadata": {}
  },
  {
   "cell_type": "code",
   "execution_count": 40,
   "source": [
    "labels = torch.load('labels.tar')"
   ],
   "outputs": [],
   "metadata": {}
  },
  {
   "cell_type": "code",
   "execution_count": 52,
   "source": [
    "labels[10]"
   ],
   "outputs": [
    {
     "output_type": "execute_result",
     "data": {
      "text/plain": [
       "tensor(5)"
      ]
     },
     "metadata": {},
     "execution_count": 52
    }
   ],
   "metadata": {}
  },
  {
   "cell_type": "code",
   "execution_count": 60,
   "source": [
    "class CIFAR10Transform:\n",
    "    data_mean = (0.4914, 0.4822, 0.4465)\n",
    "    data_stddev = (0.2023, 0.1994, 0.2010)"
   ],
   "outputs": [],
   "metadata": {}
  },
  {
   "cell_type": "code",
   "execution_count": 63,
   "source": [
    "import numpy as np "
   ],
   "outputs": [],
   "metadata": {}
  },
  {
   "cell_type": "code",
   "execution_count": 114,
   "source": [
    "def im_convert(tensor):\n",
    "    image = tensor.cpu().clone().detach().numpy()\n",
    "#     image = (image - image.min()) / (image.max() - image.min())\n",
    "    image = image.transpose(1, 2, 0)\n",
    "    image = (image + np.array(CIFAR10Transform.data_mean)) * np.array(CIFAR10Transform.data_stddev)\n",
    "#     image = (image - image.min()) / (image.max() - image.min())\n",
    "    \n",
    "#     image = image.clip(0, 1)*255\n",
    "    return image"
   ],
   "outputs": [],
   "metadata": {}
  },
  {
   "cell_type": "code",
   "execution_count": 120,
   "source": [
    "labels[120]"
   ],
   "outputs": [
    {
     "output_type": "execute_result",
     "data": {
      "text/plain": [
       "tensor(9)"
      ]
     },
     "metadata": {},
     "execution_count": 120
    }
   ],
   "metadata": {}
  },
  {
   "cell_type": "code",
   "execution_count": 119,
   "source": [
    "plt.imshow(im_convert(images[120]))"
   ],
   "outputs": [
    {
     "output_type": "stream",
     "name": "stderr",
     "text": [
      "Clipping input data to the valid range for imshow with RGB data ([0..1] for floats or [0..255] for integers).\n"
     ]
    },
    {
     "output_type": "execute_result",
     "data": {
      "text/plain": [
       "<matplotlib.image.AxesImage at 0x7f3f72007790>"
      ]
     },
     "metadata": {},
     "execution_count": 119
    },
    {
     "output_type": "display_data",
     "data": {
      "image/png": "[encoded data removed]",
      "text/plain": [
       "<Figure size 432x288 with 1 Axes>"
      ]
     },
     "metadata": {
      "needs_background": "light"
     }
    }
   ],
   "metadata": {
    "scrolled": false
   }
  },
  {
   "cell_type": "markdown",
   "source": [
    "- Hasn't converged yet\n",
    "- or hyper-parameters bad\n",
    "- training after distillation better"
   ],
   "metadata": {}
  },
  {
   "cell_type": "code",
   "execution_count": 44,
   "source": [
    "def train_student(model, images, labels, epochs):\n",
    "    model.train()\n",
    "    criterion = nn.CrossEntropyLoss()\n",
    "    optimizer = torch.optim.SGD(model.parameters(), lr=0.1, momentum=0.9, weight_decay=5e-4)\n",
    "    for _ in tqdm.tqdm(range(epochs)):\n",
    "        optimizer.zero_grad()\n",
    "        output = model(images)\n",
    "        loss = criterion(output, labels)\n",
    "        loss.backward()\n",
    "        optimizer.step()\n",
    "    return model"
   ],
   "outputs": [],
   "metadata": {}
  },
  {
   "cell_type": "code",
   "execution_count": 63,
   "source": [
    "test_model(ResNet18().cuda())"
   ],
   "outputs": [
    {
     "output_type": "stream",
     "name": "stdout",
     "text": [
      "0.11369999498128891\n"
     ]
    }
   ],
   "metadata": {}
  },
  {
   "cell_type": "code",
   "execution_count": 64,
   "source": [
    "student_model = train_student(ResNet18().cuda(), images, targets, 1000)"
   ],
   "outputs": [
    {
     "output_type": "stream",
     "name": "stderr",
     "text": [
      "100%|██████████| 1000/1000 [05:11<00:00,  3.21it/s]\n"
     ]
    }
   ],
   "metadata": {
    "scrolled": true
   }
  },
  {
   "cell_type": "code",
   "execution_count": 82,
   "source": [
    "torch.save(student_net.state_dict(), 'student.tar')"
   ],
   "outputs": [],
   "metadata": {}
  },
  {
   "cell_type": "code",
   "execution_count": 80,
   "source": [
    "torch.save(images, 'images.tar')"
   ],
   "outputs": [],
   "metadata": {}
  },
  {
   "cell_type": "code",
   "execution_count": 81,
   "source": [
    "torch.save(labels, 'labels.tar')"
   ],
   "outputs": [],
   "metadata": {}
  },
  {
   "cell_type": "code",
   "execution_count": 16,
   "source": [
    "student_net= ResNet18()"
   ],
   "outputs": [],
   "metadata": {}
  },
  {
   "cell_type": "code",
   "execution_count": 17,
   "source": [
    "student_net.load_state_dict(torch.load('student.tar'))"
   ],
   "outputs": [
    {
     "output_type": "execute_result",
     "data": {
      "text/plain": [
       "<All keys matched successfully>"
      ]
     },
     "metadata": {},
     "execution_count": 17
    }
   ],
   "metadata": {}
  },
  {
   "cell_type": "code",
   "execution_count": 21,
   "source": [
    "test_model(ResNet18().cuda())"
   ],
   "outputs": [
    {
     "output_type": "stream",
     "name": "stdout",
     "text": [
      "0.09999999403953552\n"
     ]
    }
   ],
   "metadata": {}
  },
  {
   "cell_type": "code",
   "execution_count": 19,
   "source": [
    "test_model(student_net.eval().cuda())"
   ],
   "outputs": [
    {
     "output_type": "stream",
     "name": "stdout",
     "text": [
      "0.11400000005960464\n"
     ]
    }
   ],
   "metadata": {
    "scrolled": true
   }
  },
  {
   "cell_type": "markdown",
   "source": [
    "# Adaptive DeepInversion"
   ],
   "metadata": {}
  },
  {
   "cell_type": "code",
   "execution_count": 1,
   "source": [
    "from fed_distill.cifar10 import load_cifar10_test"
   ],
   "outputs": [],
   "metadata": {}
  },
  {
   "cell_type": "code",
   "execution_count": 2,
   "source": [
    "data = load_cifar10_test('/mlodata1/jellouli')"
   ],
   "outputs": [],
   "metadata": {}
  },
  {
   "cell_type": "code",
   "execution_count": 3,
   "source": [
    "targets = np.array(data.targets)"
   ],
   "outputs": [
    {
     "output_type": "error",
     "ename": "NameError",
     "evalue": "name 'np' is not defined",
     "traceback": [
      "\u001b[0;31m---------------------------------------------------------------------------\u001b[0m",
      "\u001b[0;31mNameError\u001b[0m                                 Traceback (most recent call last)",
      "Input \u001b[0;32mIn [3]\u001b[0m, in \u001b[0;36m<cell line: 1>\u001b[0;34m()\u001b[0m\n\u001b[0;32m----> 1\u001b[0m targets \u001b[38;5;241m=\u001b[39m \u001b[43mnp\u001b[49m\u001b[38;5;241m.\u001b[39marray(data\u001b[38;5;241m.\u001b[39mtargets)\n",
      "\u001b[0;31mNameError\u001b[0m: name 'np' is not defined"
     ]
    }
   ],
   "metadata": {}
  },
  {
   "cell_type": "code",
   "execution_count": 4,
   "source": [
    "import numpy as np "
   ],
   "outputs": [],
   "metadata": {}
  },
  {
   "cell_type": "code",
   "execution_count": 13,
   "source": [
    "from torch.utils.data import Subset"
   ],
   "outputs": [],
   "metadata": {}
  },
  {
   "cell_type": "code",
   "execution_count": 15,
   "source": [
    "Subset(data, targets.argsort()[:5])"
   ],
   "outputs": [
    {
     "output_type": "execute_result",
     "data": {
      "text/plain": [
       "<torch.utils.data.dataset.Subset at 0x7f8b8fcbdd00>"
      ]
     },
     "metadata": {},
     "execution_count": 15
    }
   ],
   "metadata": {}
  },
  {
   "cell_type": "code",
   "execution_count": 6,
   "source": [
    "from fed_distill.fed.splitter import HeterogenousDistribution"
   ],
   "outputs": [],
   "metadata": {}
  },
  {
   "cell_type": "code",
   "execution_count": 7,
   "source": [
    "f = HeterogenousDistribution(data)"
   ],
   "outputs": [],
   "metadata": {}
  },
  {
   "cell_type": "code",
   "execution_count": 9,
   "source": [
    "a = f.split(10)"
   ],
   "outputs": [],
   "metadata": {}
  },
  {
   "cell_type": "code",
   "execution_count": 13,
   "source": [
    "len(a[-1])"
   ],
   "outputs": [
    {
     "output_type": "execute_result",
     "data": {
      "text/plain": [
       "1000"
      ]
     },
     "metadata": {},
     "execution_count": 13
    }
   ],
   "metadata": {}
  },
  {
   "cell_type": "code",
   "execution_count": 21,
   "source": [
    "np.concatenate([[1,2,3], [4,5,6]])"
   ],
   "outputs": [
    {
     "output_type": "execute_result",
     "data": {
      "text/plain": [
       "array([1, 2, 3, 4, 5, 6])"
      ]
     },
     "metadata": {},
     "execution_count": 21
    }
   ],
   "metadata": {}
  },
  {
   "cell_type": "code",
   "execution_count": 22,
   "source": [
    "%load_ext autoreload\n",
    "%autoreload 2"
   ],
   "outputs": [],
   "metadata": {}
  },
  {
   "cell_type": "code",
   "execution_count": null,
   "source": [],
   "outputs": [],
   "metadata": {}
  }
 ],
 "metadata": {
  "kernelspec": {
   "name": "python3",
   "display_name": "Python 3.9.7 64-bit ('data_distill': conda)"
  },
  "language_info": {
   "codemirror_mode": {
    "name": "ipython",
    "version": 3
   },
   "file_extension": ".py",
   "mimetype": "text/x-python",
   "name": "python",
   "nbconvert_exporter": "python",
   "pygments_lexer": "ipython3",
   "version": "3.9.7"
  },
  "interpreter": {
   "hash": "08a4864f4f250c5c2c2ecc2b858a7886cbb42530a1c471e1cb12a9889e222e03"
  }
 },
 "nbformat": 4,
 "nbformat_minor": 5
}