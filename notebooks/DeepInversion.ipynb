{
 "cells": [
  {
   "cell_type": "code",
   "execution_count": 1,
   "id": "5f81afe1",
   "metadata": {
    "scrolled": true
   },
   "outputs": [],
   "source": [
    "%load_ext autoreload\n",
    "%autoreload 2"
   ]
  },
  {
   "cell_type": "code",
   "execution_count": 2,
   "id": "4af700c4",
   "metadata": {},
   "outputs": [],
   "source": [
    "import sys"
   ]
  },
  {
   "cell_type": "code",
   "execution_count": 3,
   "id": "e8f59939",
   "metadata": {
    "scrolled": true
   },
   "outputs": [],
   "source": [
    "sys.path.append(\"/home/jellouli/dataset-distillation/external/DeepInversion/cifar10\")"
   ]
  },
  {
   "cell_type": "code",
   "execution_count": 4,
   "id": "75e1a55b",
   "metadata": {},
   "outputs": [],
   "source": [
    "TEACHER_WEIGHTS_PATH = \"/home/jellouli/dataset-distillation/model_weights/final_state_resnet.tar\""
   ]
  },
  {
   "cell_type": "code",
   "execution_count": 5,
   "id": "d3315fd5",
   "metadata": {},
   "outputs": [],
   "source": [
    "CIFAR10_PATH = '/mlodata1/jellouli'"
   ]
  },
  {
   "cell_type": "code",
   "execution_count": 6,
   "id": "f79ec6cb",
   "metadata": {},
   "outputs": [],
   "source": [
    "import torch\n",
    "import matplotlib.pyplot as plt\n",
    "from torchvision.datasets import CIFAR10\n",
    "import torchvision.transforms as T\n",
    "from torch.utils.data import DataLoader\n",
    "import torch.nn as nn\n",
    "from resnet_cifar import ResNet18\n",
    "import collections\n",
    "import random\n",
    "import tqdm"
   ]
  },
  {
   "cell_type": "markdown",
   "id": "cff08504",
   "metadata": {},
   "source": [
    "# Model training\n",
    "- Resnet18\n",
    "- Check that training was successful\n",
    "- validate loss on cifar10 datase"
   ]
  },
  {
   "cell_type": "code",
   "execution_count": 7,
   "id": "79c9e468",
   "metadata": {},
   "outputs": [],
   "source": [
    "model = ResNet18()"
   ]
  },
  {
   "cell_type": "code",
   "execution_count": 8,
   "id": "fcb940bd",
   "metadata": {},
   "outputs": [],
   "source": [
    "training_state = torch.load(TEACHER_WEIGHTS_PATH)"
   ]
  },
  {
   "cell_type": "code",
   "execution_count": 9,
   "id": "96b8e6e1",
   "metadata": {},
   "outputs": [
    {
     "data": {
      "text/plain": [
       "dict_keys(['train_losses', 'test_losses', 'test_accs', 'best_acc', 'best_model'])"
      ]
     },
     "execution_count": 9,
     "metadata": {},
     "output_type": "execute_result"
    }
   ],
   "source": [
    "training_state.keys()"
   ]
  },
  {
   "cell_type": "code",
   "execution_count": 10,
   "id": "b7c18c21",
   "metadata": {
    "scrolled": true
   },
   "outputs": [
    {
     "data": {
      "image/png": "[encoded data removed]",
      "text/plain": [
       "<Figure size 432x288 with 1 Axes>"
      ]
     },
     "metadata": {
      "needs_background": "light"
     },
     "output_type": "display_data"
    }
   ],
   "source": [
    "plt.plot(training_state['train_losses'],label='train losses')\n",
    "plt.plot(training_state['test_losses'], label='test_losses')\n",
    "plt.plot(training_state['test_accs'], label='test_accs')\n",
    "plt.yscale('log')\n",
    "plt.legend()\n",
    "plt.grid()\n",
    "plt.show()"
   ]
  },
  {
   "cell_type": "code",
   "execution_count": 11,
   "id": "98ec3b47",
   "metadata": {
    "scrolled": true
   },
   "outputs": [
    {
     "name": "stdout",
     "output_type": "stream",
     "text": [
      "tensor(0.9265, device='cuda:0')\n"
     ]
    }
   ],
   "source": [
    "print(training_state['best_acc'])"
   ]
  },
  {
   "cell_type": "code",
   "execution_count": 12,
   "id": "77b3ac10",
   "metadata": {},
   "outputs": [
    {
     "data": {
      "text/plain": [
       "<All keys matched successfully>"
      ]
     },
     "execution_count": 12,
     "metadata": {},
     "output_type": "execute_result"
    }
   ],
   "source": [
    "model.load_state_dict(training_state['best_model'])"
   ]
  },
  {
   "cell_type": "code",
   "execution_count": 13,
   "id": "bc9add42",
   "metadata": {},
   "outputs": [],
   "source": [
    "test_transform = T.Compose(\n",
    "        [T.ToTensor(), T.Normalize((0.4914, 0.4822, 0.4465), (0.2023, 0.1994, 0.2010)),]\n",
    "    )\n",
    "eval_set = CIFAR10(CIFAR10_PATH, train=False, transform=test_transform)"
   ]
  },
  {
   "cell_type": "code",
   "execution_count": 14,
   "id": "ab6a0e7e",
   "metadata": {},
   "outputs": [
    {
     "name": "stdout",
     "output_type": "stream",
     "text": [
      "0.9259999990463257\n"
     ]
    }
   ],
   "source": [
    "model.eval()\n",
    "model.cuda()\n",
    "with torch.no_grad():\n",
    "    num_correct = 0\n",
    "    for images, labels in DataLoader(eval_set,batch_size=4096):\n",
    "        result = model(images.cuda())\n",
    "        pred = result.argmax(1)\n",
    "        num_correct += (pred == labels.cuda()).sum()\n",
    "    print(float(num_correct / len(eval_set)))"
   ]
  },
  {
   "cell_type": "code",
   "execution_count": 53,
   "id": "97ea9d2b",
   "metadata": {},
   "outputs": [],
   "source": [
    "def test_model(model):\n",
    "    model.eval()\n",
    "    with torch.no_grad():\n",
    "        num_correct = 0\n",
    "        for images, labels in DataLoader(eval_set,batch_size=4096):\n",
    "            result = model(images.cuda())\n",
    "            pred = result.argmax(1)\n",
    "            num_correct += (pred == labels.cuda()).sum()\n",
    "        print(float(num_correct / len(eval_set)))"
   ]
  },
  {
   "cell_type": "markdown",
   "id": "0bbd33b7",
   "metadata": {},
   "source": [
    "# DeepInversion\n",
    "- Apply deep inversion to the above model in order to generate images"
   ]
  },
  {
   "cell_type": "code",
   "execution_count": 15,
   "id": "c203b445",
   "metadata": {},
   "outputs": [
    {
     "name": "stdout",
     "output_type": "stream",
     "text": [
      "Please install apex from https://www.github.com/nvidia/apex to run this example.\n",
      "will attempt to run without it\n"
     ]
    }
   ],
   "source": [
    "from deepinversion_cifar10 import get_images"
   ]
  },
  {
   "cell_type": "code",
   "execution_count": 18,
   "id": "89cac624",
   "metadata": {},
   "outputs": [],
   "source": [
    "class DeepInversionFeatureHook:\n",
    "    \"\"\"\n",
    "    Implementation of the forward hook to track feature statistics and compute a loss on them.\n",
    "    Will compute mean and variance, and will use l2 as a loss\n",
    "    \"\"\"\n",
    "\n",
    "    def __init__(self, module):\n",
    "        self.hook = module.register_forward_hook(self.hook_fn)\n",
    "\n",
    "    def hook_fn(self, module, input, output):\n",
    "        # hook co compute deepinversion's feature distribution regularization\n",
    "        nch = input[0].shape[1]\n",
    "        \n",
    "        mean = input[0].mean([0, 2, 3])\n",
    "        var = (\n",
    "            input[0]\n",
    "            .permute(1, 0, 2, 3)\n",
    "            .contiguous()\n",
    "            .view([nch, -1])\n",
    "            .var(1, unbiased=False)\n",
    "        )\n",
    "\n",
    "        # forcing mean and variance to match between two distributions\n",
    "        # other ways might work better, e.g. KL divergence\n",
    "        r_feature = torch.norm(\n",
    "            module.running_var.data.type(var.type()) - var, 2\n",
    "        ) + torch.norm(module.running_mean.data.type(var.type()) - mean, 2)\n",
    "\n",
    "        self.r_feature = r_feature\n",
    "        # must have no output\n",
    "\n",
    "    def close(self):\n",
    "        self.hook.remove()"
   ]
  },
  {
   "cell_type": "code",
   "execution_count": 72,
   "id": "2c430635",
   "metadata": {},
   "outputs": [],
   "source": [
    "def get_images(\n",
    "    net,\n",
    "    bs=256,\n",
    "    epochs=1000,\n",
    "    l2_coeff=0.0,\n",
    "    var_scale=0.00005,\n",
    "    bn_reg_scale=0.0,\n",
    "    optimizer=None,\n",
    "    student_net=None,\n",
    "    inputs=None,\n",
    "):\n",
    "    best_cost = 1e6\n",
    "    net.eval()\n",
    "    \n",
    "    # initialize gaussian inputs\n",
    "    inputs.data = torch.randn((bs, 3, 32, 32), requires_grad=True, device=\"cuda\")\n",
    "    \n",
    "    if student_net:\n",
    "        optimizer_student = torch.optim.SGD(student_net.parameters(), lr=0.1, momentum=0.9, weight_decay=5e-4)\n",
    "        criterion_student = nn.CrossEntropyLoss()\n",
    "        \n",
    "    # set up criteria for optimization\n",
    "    criterion = nn.CrossEntropyLoss()\n",
    "\n",
    "    optimizer.state = collections.defaultdict(dict)  # Reset state of optimizer\n",
    "\n",
    "    # target outputs to generate\n",
    "    targets = torch.LongTensor([random.randint(0, 9) for _ in range(bs)]).to(\"cuda\")\n",
    "    \n",
    "    # Create hooks for feature statistics catching\n",
    "    loss_r_feature_layers = []\n",
    "    for module in net.modules():\n",
    "        if isinstance(module, nn.BatchNorm2d):\n",
    "            loss_r_feature_layers.append(DeepInversionFeatureHook(module))\n",
    "\n",
    "    # setting up the range for jitter\n",
    "    lim_0, lim_1 = 2, 2\n",
    "\n",
    "    for epoch in tqdm.tqdm(range(epochs)):\n",
    "        # apply random jitter offsets\n",
    "        off1 = random.randint(-lim_0, lim_0)\n",
    "        off2 = random.randint(-lim_1, lim_1)\n",
    "        inputs_jit = torch.roll(inputs, shifts=(off1, off2), dims=(2, 3))\n",
    "\n",
    "        # foward with jit images\n",
    "        optimizer.zero_grad()\n",
    "        outputs = net(inputs_jit)\n",
    "        loss = criterion(outputs, targets)\n",
    "        loss_target = loss.item()\n",
    "        \n",
    "        if student_net:\n",
    "            optimizer_student.zero_grad()\n",
    "            loss_student = criterion_student(student_net(inputs_jit), targets)\n",
    "            loss_student.backward()\n",
    "            optimizer_student.step()\n",
    "\n",
    "        # apply total variation regularization\n",
    "        diff1 = inputs_jit[:, :, :, :-1] - inputs_jit[:, :, :, 1:]\n",
    "        diff2 = inputs_jit[:, :, :-1, :] - inputs_jit[:, :, 1:, :]\n",
    "        diff3 = inputs_jit[:, :, 1:, :-1] - inputs_jit[:, :, :-1, 1:]\n",
    "        diff4 = inputs_jit[:, :, :-1, :-1] - inputs_jit[:, :, 1:, 1:]\n",
    "        loss_var = (\n",
    "            torch.norm(diff1)\n",
    "            + torch.norm(diff2)\n",
    "            + torch.norm(diff3)\n",
    "            + torch.norm(diff4)\n",
    "        )\n",
    "        loss = loss + var_scale * loss_var\n",
    "\n",
    "        # R_feature loss\n",
    "        loss_distr = sum([mod.r_feature for mod in loss_r_feature_layers])\n",
    "        loss = loss + bn_reg_scale * loss_distr  # best for noise before BN\n",
    "\n",
    "        loss = loss + l2_coeff * torch.norm(inputs_jit, 2)\n",
    "\n",
    "        if best_cost > loss.item():\n",
    "            best_cost = loss.item()\n",
    "            best_inputs = inputs.data\n",
    "        loss.backward()\n",
    "        optimizer.step()\n",
    "\n",
    "    return best_inputs, targets, student_net"
   ]
  },
  {
   "cell_type": "code",
   "execution_count": 73,
   "id": "e75650c5",
   "metadata": {},
   "outputs": [],
   "source": [
    "bs = 256\n",
    "lr = 0.05\n",
    "l2_scale = 0\n",
    "var_scale = 2.5e-5"
   ]
  },
  {
   "cell_type": "code",
   "execution_count": 74,
   "id": "db5a38c2",
   "metadata": {},
   "outputs": [],
   "source": [
    "inputs = torch.randn((bs, 3, 32, 32), requires_grad=True, device='cuda')\n",
    "optimizer_di = torch.optim.Adam([inputs], lr=lr)"
   ]
  },
  {
   "cell_type": "code",
   "execution_count": null,
   "id": "06207b9e",
   "metadata": {
    "scrolled": true
   },
   "outputs": [
    {
     "name": "stderr",
     "output_type": "stream",
     "text": [
      " 20%|█▉        | 397/2000 [04:32<18:40,  1.43it/s]"
     ]
    }
   ],
   "source": [
    "images, targets, student_net = get_images(model, \n",
    "                   bs=256,\n",
    "                   epochs=2000,\n",
    "                   var_scale=var_scale,\n",
    "                   optimizer = optimizer_di,\n",
    "                   inputs = inputs,\n",
    "                   bn_reg_scale=100,\n",
    "                   student_net=ResNet18().cuda(),\n",
    "                   l2_coeff=l2_scale)"
   ]
  },
  {
   "cell_type": "code",
   "execution_count": 61,
   "id": "e2b43511",
   "metadata": {
    "scrolled": true
   },
   "outputs": [
    {
     "name": "stderr",
     "output_type": "stream",
     "text": [
      "Clipping input data to the valid range for imshow with RGB data ([0..1] for floats or [0..255] for integers).\n"
     ]
    },
    {
     "data": {
      "text/plain": [
       "<matplotlib.image.AxesImage at 0x7f995b78b700>"
      ]
     },
     "execution_count": 61,
     "metadata": {},
     "output_type": "execute_result"
    },
    {
     "data": {
      "image/png": "[encoded data removed]",
      "text/plain": [
       "<Figure size 432x288 with 1 Axes>"
      ]
     },
     "metadata": {
      "needs_background": "light"
     },
     "output_type": "display_data"
    }
   ],
   "source": [
    "plt.imshow(images[4].cpu().numpy().transpose(1,2,0))"
   ]
  },
  {
   "cell_type": "code",
   "execution_count": 44,
   "id": "a18967fb",
   "metadata": {},
   "outputs": [],
   "source": [
    "def train_student(model, images, labels, epochs):\n",
    "    model.train()\n",
    "    criterion = nn.CrossEntropyLoss()\n",
    "    optimizer = torch.optim.SGD(model.parameters(), lr=0.1, momentum=0.9, weight_decay=5e-4)\n",
    "    for _ in tqdm.tqdm(range(epochs)):\n",
    "        optimizer.zero_grad()\n",
    "        output = model(images)\n",
    "        loss = criterion(output, labels)\n",
    "        loss.backward()\n",
    "        optimizer.step()\n",
    "    return model"
   ]
  },
  {
   "cell_type": "code",
   "execution_count": 63,
   "id": "eaa5e7ad",
   "metadata": {},
   "outputs": [
    {
     "name": "stdout",
     "output_type": "stream",
     "text": [
      "0.11369999498128891\n"
     ]
    }
   ],
   "source": [
    "test_model(ResNet18().cuda())"
   ]
  },
  {
   "cell_type": "code",
   "execution_count": 64,
   "id": "49249b6c",
   "metadata": {
    "scrolled": true
   },
   "outputs": [
    {
     "name": "stderr",
     "output_type": "stream",
     "text": [
      "100%|██████████| 1000/1000 [05:11<00:00,  3.21it/s]\n"
     ]
    }
   ],
   "source": [
    "student_model = train_student(ResNet18().cuda(), images, targets, 1000)"
   ]
  },
  {
   "cell_type": "code",
   "execution_count": 65,
   "id": "292168f6",
   "metadata": {},
   "outputs": [
    {
     "name": "stdout",
     "output_type": "stream",
     "text": [
      "0.16859999299049377\n"
     ]
    }
   ],
   "source": [
    "test_model(student_net)"
   ]
  },
  {
   "cell_type": "markdown",
   "id": "e211bb4b",
   "metadata": {},
   "source": [
    "# Adaptive DeepInversion"
   ]
  },
  {
   "cell_type": "code",
   "execution_count": null,
   "id": "b2e8abb1",
   "metadata": {},
   "outputs": [],
   "source": []
  }
 ],
 "metadata": {
  "kernelspec": {
   "display_name": "data_distill",
   "language": "python",
   "name": "data_distill"
  },
  "language_info": {
   "codemirror_mode": {
    "name": "ipython",
    "version": 3
   },
   "file_extension": ".py",
   "mimetype": "text/x-python",
   "name": "python",
   "nbconvert_exporter": "python",
   "pygments_lexer": "ipython3",
   "version": "3.8.5"
  }
 },
 "nbformat": 4,
 "nbformat_minor": 5
}
