{
 "cells": [
  {
   "cell_type": "code",
   "execution_count": 1,
   "source": [
    "%load_ext autoreload\n",
    "%autoreload 2"
   ],
   "outputs": [],
   "metadata": {}
  },
  {
   "cell_type": "code",
   "execution_count": 2,
   "source": [
    "import torch"
   ],
   "outputs": [
    {
     "output_type": "stream",
     "name": "stderr",
     "text": [
      "/home/jellouli/.conda/envs/data_distill/lib/python3.9/site-packages/tqdm/auto.py:22: TqdmWarning: IProgress not found. Please update jupyter and ipywidgets. See https://ipywidgets.readthedocs.io/en/stable/user_install.html\n",
      "  from .autonotebook import tqdm as notebook_tqdm\n"
     ]
    }
   ],
   "metadata": {}
  },
  {
   "cell_type": "code",
   "execution_count": 7,
   "source": [
    "from fed_distill.deep_inv import JensonShannonDiv, DeepInversionLoss, DeepInversion, ResnetCifarDeepInversion\n",
    "from resnet_cifar import ResNet18"
   ],
   "outputs": [],
   "metadata": {}
  },
  {
   "cell_type": "markdown",
   "source": [
    "## DeepInversion test"
   ],
   "metadata": {}
  },
  {
   "cell_type": "code",
   "execution_count": 5,
   "source": [
    "bs = 256\n",
    "lr = 0.1\n",
    "l2_scale = 0.0\n",
    "var_scale = 1e-3\n",
    "batch_size = 250\n",
    "bn_scale = 10"
   ],
   "outputs": [],
   "metadata": {}
  },
  {
   "cell_type": "code",
   "execution_count": 4,
   "source": [
    "from fed_distill.deep_inv import RandomSampler\n",
    "sampler = RandomSampler(batch_size=bs)"
   ],
   "outputs": [
    {
     "output_type": "error",
     "ename": "NameError",
     "evalue": "name 'bs' is not defined",
     "traceback": [
      "\u001b[0;31m---------------------------------------------------------------------------\u001b[0m",
      "\u001b[0;31mNameError\u001b[0m                                 Traceback (most recent call last)",
      "Input \u001b[0;32mIn [4]\u001b[0m, in \u001b[0;36m<cell line: 2>\u001b[0;34m()\u001b[0m\n\u001b[1;32m      1\u001b[0m \u001b[38;5;28;01mfrom\u001b[39;00m \u001b[38;5;21;01mfed_distill\u001b[39;00m\u001b[38;5;21;01m.\u001b[39;00m\u001b[38;5;21;01mdeep_inv\u001b[39;00m \u001b[38;5;28;01mimport\u001b[39;00m RandomSampler\n\u001b[0;32m----> 2\u001b[0m sampler \u001b[38;5;241m=\u001b[39m RandomSampler(batch_size\u001b[38;5;241m=\u001b[39m\u001b[43mbs\u001b[49m)\n",
      "\u001b[0;31mNameError\u001b[0m: name 'bs' is not defined"
     ]
    }
   ],
   "metadata": {}
  },
  {
   "cell_type": "code",
   "execution_count": 8,
   "source": [
    "teacher = ResNet18()\n",
    "teacher.load_state_dict(torch.load('../model_weights/final_state_resnet.tar')['best_model'])"
   ],
   "outputs": [
    {
     "output_type": "execute_result",
     "data": {
      "text/plain": [
       "<All keys matched successfully>"
      ]
     },
     "metadata": {},
     "execution_count": 8
    }
   ],
   "metadata": {}
  },
  {
   "cell_type": "code",
   "execution_count": 9,
   "source": [
    "from fed_distill.cifar10 import prepare_to_visualize\n",
    "import matplotlib.pyplot as plt"
   ],
   "outputs": [],
   "metadata": {}
  },
  {
   "cell_type": "code",
   "execution_count": 11,
   "source": [
    "res_inv = ResnetCifarDeepInversion(teacher_net=teacher,\n",
    "                                    class_sampler=sampler,\n",
    "                                    input_shape=(32,32),\n",
    "                                    adam_lr = lr,\n",
    "                                    l2_scale=l2_scale,\n",
    "                                    var_scale=var_scale,\n",
    "                                    bn_scale=bn_scale,\n",
    "                                    batch_size=bs,\n",
    "                                    grad_updates_batch=2000)"
   ],
   "outputs": [],
   "metadata": {}
  },
  {
   "cell_type": "code",
   "execution_count": 12,
   "source": [
    "images, targets, losses = res_inv.compute_batch(get_losses=True)"
   ],
   "outputs": [
    {
     "output_type": "stream",
     "name": "stderr",
     "text": [
      "100%|██████████| 2000/2000 [10:24<00:00,  3.20it/s]\n"
     ]
    }
   ],
   "metadata": {}
  },
  {
   "cell_type": "code",
   "execution_count": 31,
   "source": [
    "plt.imshow(prepare_to_visualize(images[12]))"
   ],
   "outputs": [
    {
     "output_type": "execute_result",
     "data": {
      "text/plain": [
       "<matplotlib.image.AxesImage at 0x7fcadfbf2e20>"
      ]
     },
     "metadata": {},
     "execution_count": 31
    },
    {
     "output_type": "display_data",
     "data": {
      "image/png": "[encoded data removed]",
      "text/plain": [
       "<Figure size 432x288 with 1 Axes>"
      ]
     },
     "metadata": {
      "needs_background": "light"
     }
    }
   ],
   "metadata": {}
  },
  {
   "cell_type": "code",
   "execution_count": 14,
   "source": [
    "targets[0]"
   ],
   "outputs": [
    {
     "output_type": "execute_result",
     "data": {
      "text/plain": [
       "tensor(2, device='cuda:0')"
      ]
     },
     "metadata": {},
     "execution_count": 14
    }
   ],
   "metadata": {}
  },
  {
   "cell_type": "code",
   "execution_count": 25,
   "source": [
    "plt.plot(losses)\n",
    "plt.yscale('log')\n",
    "plt.title('Deep inversion loss vs iteration')\n",
    "plt.xlabel('iteration')\n",
    "plt.ylabel('loss (log scale)')\n",
    "# plt.show()\n",
    "plt.savefig('losses.jpg')\n"
   ],
   "outputs": [
    {
     "output_type": "display_data",
     "data": {
      "image/png": "[encoded data removed]",
      "text/plain": [
       "<Figure size 432x288 with 1 Axes>"
      ]
     },
     "metadata": {
      "needs_background": "light"
     }
    }
   ],
   "metadata": {}
  },
  {
   "cell_type": "code",
   "execution_count": 3,
   "source": [
    "from fed_distill.deep_inv.student import ResnetCifarStudentTrainer\n",
    "from fed_distill.deep_inv import RandomSampler"
   ],
   "outputs": [
    {
     "output_type": "stream",
     "name": "stderr",
     "text": [
      "/home/jellouli/.conda/envs/data_distill/lib/python3.9/site-packages/tqdm/auto.py:22: TqdmWarning: IProgress not found. Please update jupyter and ipywidgets. See https://ipywidgets.readthedocs.io/en/stable/user_install.html\n",
      "  from .autonotebook import tqdm as notebook_tqdm\n"
     ]
    }
   ],
   "metadata": {}
  },
  {
   "cell_type": "code",
   "execution_count": 8,
   "source": [
    "batch_size = 50\n",
    "sampler = RandomSampler(batch_size=batch_size)\n",
    "teacher = ResNet18()\n",
    "teacher.load_state_dict(torch.load('../model_weights/final_state_resnet.tar')['best_model'])"
   ],
   "outputs": [
    {
     "output_type": "error",
     "ename": "NameError",
     "evalue": "name 'torch' is not defined",
     "traceback": [
      "\u001b[0;31m---------------------------------------------------------------------------\u001b[0m",
      "\u001b[0;31mNameError\u001b[0m                                 Traceback (most recent call last)",
      "Input \u001b[0;32mIn [8]\u001b[0m, in \u001b[0;36m<cell line: 4>\u001b[0;34m()\u001b[0m\n\u001b[1;32m      2\u001b[0m sampler \u001b[38;5;241m=\u001b[39m RandomSampler(batch_size\u001b[38;5;241m=\u001b[39mbatch_size)\n\u001b[1;32m      3\u001b[0m teacher \u001b[38;5;241m=\u001b[39m ResNet18()\n\u001b[0;32m----> 4\u001b[0m teacher\u001b[38;5;241m.\u001b[39mload_state_dict(\u001b[43mtorch\u001b[49m\u001b[38;5;241m.\u001b[39mload(\u001b[38;5;124m'\u001b[39m\u001b[38;5;124m../model_weights/final_state_resnet.tar\u001b[39m\u001b[38;5;124m'\u001b[39m)[\u001b[38;5;124m'\u001b[39m\u001b[38;5;124mbest_model\u001b[39m\u001b[38;5;124m'\u001b[39m])\n",
      "\u001b[0;31mNameError\u001b[0m: name 'torch' is not defined"
     ]
    }
   ],
   "metadata": {}
  },
  {
   "cell_type": "markdown",
   "source": [
    "teacher_net: nn.Module,\n",
    "        class_sampler: TargetSampler,\n",
    "        num_initial_batches: int = 50,\n",
    "        data_root: str = \".\",\n",
    "        adam_lr: float = 0.1,\n",
    "        l2_scale: float = 0.0,\n",
    "        var_scale: float = 1e-3,\n",
    "        bn_scale: float = 10,\n",
    "        comp_scale: float = 10,\n",
    "        batch_size: int = 256,\n",
    "        grad_updates_batch: int = 1000,\n",
    "        test_batch_size: int = 4098,\n",
    "        training_epochs: int = 250,\n",
    "        epoch_gradient_updates: int = 195,\n",
    "        device: str = \"cuda\",\n",
    "        save_prefix: str = \"\",\n",
    "        save_images: bool = False,\n",
    "        imgs_save_folder: str = \".\",\n",
    "        save_state: bool = False,\n",
    "        save_folder: str = \".\",\n",
    "        save_every: int = None,"
   ],
   "metadata": {}
  },
  {
   "cell_type": "code",
   "execution_count": null,
   "source": [
    "import logging\n",
    "import sys\n",
    "logger = logging.getLogger('fed_distill')\n",
    "logger.setLevel(logging.INFO)\n",
    "handler = logging.StreamHandler(sys.stdout)\n",
    "handler.setLevel(logging.INFO)\n",
    "formatter = logging.Formatter('%(asctime)s - %(name)s - %(levelname)s - %(message)s')\n",
    "handler.setFormatter(formatter)\n",
    "logger.addHandler(handler)"
   ],
   "outputs": [],
   "metadata": {}
  },
  {
   "cell_type": "code",
   "execution_count": 5,
   "source": [
    "trainer = ResnetCifarStudentTrainer(teacher_net=teacher,\n",
    "                                    class_sampler=sampler, \n",
    "                                    num_initial_batches=1, \n",
    "                                    data_root='/mlodata1/jellouli', \n",
    "                                    batch_size=50, \n",
    "                                    grad_updates_batch=100, \n",
    "                                    training_epochs=2,\n",
    "                                    epoch_gradient_updates=100, \n",
    "                                    save_prefix='test1', \n",
    "                                    save_images=True,\n",
    "                                    imgs_save_folder='./test_run/images',\n",
    "                                    save_state=True,\n",
    "                                    save_folder='./test_run/states',\n",
    "                                    save_every=1,\n",
    "                                    )"
   ],
   "outputs": [
    {
     "output_type": "error",
     "ename": "NameError",
     "evalue": "name 'teacher' is not defined",
     "traceback": [
      "\u001b[0;31m---------------------------------------------------------------------------\u001b[0m",
      "\u001b[0;31mNameError\u001b[0m                                 Traceback (most recent call last)",
      "Input \u001b[0;32mIn [5]\u001b[0m, in \u001b[0;36m<cell line: 1>\u001b[0;34m()\u001b[0m\n\u001b[0;32m----> 1\u001b[0m trainer \u001b[38;5;241m=\u001b[39m ResnetCifarStudentTrainer(teacher_net\u001b[38;5;241m=\u001b[39m\u001b[43mteacher\u001b[49m,\n\u001b[1;32m      2\u001b[0m                                     class_sampler\u001b[38;5;241m=\u001b[39msampler, \n\u001b[1;32m      3\u001b[0m                                     num_initial_batches\u001b[38;5;241m=\u001b[39m\u001b[38;5;241m1\u001b[39m, \n\u001b[1;32m      4\u001b[0m                                     data_root\u001b[38;5;241m=\u001b[39m\u001b[38;5;124m'\u001b[39m\u001b[38;5;124m/mlodata1/jellouli\u001b[39m\u001b[38;5;124m'\u001b[39m, \n\u001b[1;32m      5\u001b[0m                                     batch_size\u001b[38;5;241m=\u001b[39m\u001b[38;5;241m50\u001b[39m, \n\u001b[1;32m      6\u001b[0m                                     grad_updates_batch\u001b[38;5;241m=\u001b[39m\u001b[38;5;241m100\u001b[39m, \n\u001b[1;32m      7\u001b[0m                                     training_epochs\u001b[38;5;241m=\u001b[39m\u001b[38;5;241m2\u001b[39m,\n\u001b[1;32m      8\u001b[0m                                     epoch_gradient_updates\u001b[38;5;241m=\u001b[39m\u001b[38;5;241m100\u001b[39m, \n\u001b[1;32m      9\u001b[0m                                     save_prefix\u001b[38;5;241m=\u001b[39m\u001b[38;5;124m'\u001b[39m\u001b[38;5;124mtest1\u001b[39m\u001b[38;5;124m'\u001b[39m, \n\u001b[1;32m     10\u001b[0m                                     save_images\u001b[38;5;241m=\u001b[39m\u001b[38;5;28;01mTrue\u001b[39;00m,\n\u001b[1;32m     11\u001b[0m                                     imgs_save_folder\u001b[38;5;241m=\u001b[39m\u001b[38;5;124m'\u001b[39m\u001b[38;5;124m./test_run/images\u001b[39m\u001b[38;5;124m'\u001b[39m,\n\u001b[1;32m     12\u001b[0m                                     save_state\u001b[38;5;241m=\u001b[39m\u001b[38;5;28;01mTrue\u001b[39;00m,\n\u001b[1;32m     13\u001b[0m                                     save_folder\u001b[38;5;241m=\u001b[39m\u001b[38;5;124m'\u001b[39m\u001b[38;5;124m./test_run/states\u001b[39m\u001b[38;5;124m'\u001b[39m,\n\u001b[1;32m     14\u001b[0m                                     save_every\u001b[38;5;241m=\u001b[39m\u001b[38;5;241m1\u001b[39m,\n\u001b[1;32m     15\u001b[0m                                     )\n",
      "\u001b[0;31mNameError\u001b[0m: name 'teacher' is not defined"
     ]
    }
   ],
   "metadata": {}
  },
  {
   "cell_type": "code",
   "execution_count": 6,
   "source": [
    "trainer.train()"
   ],
   "outputs": [
    {
     "output_type": "error",
     "ename": "NameError",
     "evalue": "name 'trainer' is not defined",
     "traceback": [
      "\u001b[0;31m---------------------------------------------------------------------------\u001b[0m",
      "\u001b[0;31mNameError\u001b[0m                                 Traceback (most recent call last)",
      "Input \u001b[0;32mIn [6]\u001b[0m, in \u001b[0;36m<cell line: 1>\u001b[0;34m()\u001b[0m\n\u001b[0;32m----> 1\u001b[0m \u001b[43mtrainer\u001b[49m\u001b[38;5;241m.\u001b[39mtrain()\n",
      "\u001b[0;31mNameError\u001b[0m: name 'trainer' is not defined"
     ]
    }
   ],
   "metadata": {}
  },
  {
   "cell_type": "code",
   "execution_count": null,
   "source": [],
   "outputs": [],
   "metadata": {}
  }
 ],
 "metadata": {
  "orig_nbformat": 4,
  "language_info": {
   "name": "python",
   "version": "3.9.7",
   "mimetype": "text/x-python",
   "codemirror_mode": {
    "name": "ipython",
    "version": 3
   },
   "pygments_lexer": "ipython3",
   "nbconvert_exporter": "python",
   "file_extension": ".py"
  },
  "kernelspec": {
   "name": "python3",
   "display_name": "Python 3.9.7 64-bit ('data_distill': conda)"
  },
  "interpreter": {
   "hash": "08a4864f4f250c5c2c2ecc2b858a7886cbb42530a1c471e1cb12a9889e222e03"
  }
 },
 "nbformat": 4,
 "nbformat_minor": 2
}