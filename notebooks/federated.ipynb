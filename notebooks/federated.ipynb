{
 "cells": [
  {
   "cell_type": "code",
   "execution_count": 1,
   "metadata": {},
   "outputs": [],
   "source": [
    "from fed_distill.common import AccuracyTester\n",
    "from fed_distill.cifar10 import load_cifar10_test\n",
    "from resnet_cifar import ResNet18\n",
    "import torch\n",
    "import os"
   ]
  },
  {
   "cell_type": "code",
   "execution_count": 2,
   "metadata": {},
   "outputs": [],
   "source": [
    "tester = AccuracyTester(load_cifar10_test('/mlodata1/jellouli'), batch_size=1024)"
   ]
  },
  {
   "cell_type": "code",
   "execution_count": 3,
   "metadata": {},
   "outputs": [],
   "source": [
    "STATE_FOLDER = \"/mlodata1/jellouli/federated_learning/experiment1/states\""
   ]
  },
  {
   "cell_type": "code",
   "execution_count": 4,
   "metadata": {},
   "outputs": [],
   "source": [
    "student = ResNet18()\n",
    "# state_student = torch.load(os.path.join(STATE_FOLDER, 'student_current_best.tar'))\n",
    "# student.load_state_dict(state_student['metrics']['best_model'])"
   ]
  },
  {
   "cell_type": "code",
   "execution_count": 5,
   "metadata": {},
   "outputs": [],
   "source": [
    "state_student = torch.load(os.path.join(STATE_FOLDER, 'student_current_best.tar'))"
   ]
  },
  {
   "cell_type": "code",
   "execution_count": null,
   "metadata": {},
   "outputs": [],
   "source": []
  }
 ],
 "metadata": {
  "interpreter": {
   "hash": "0618ac452f59e72e2f4895bfb737c9229977c9305ec95546112a105ee3cd898c"
  },
  "kernelspec": {
   "display_name": "data_distill",
   "language": "python",
   "name": "python3"
  },
  "language_info": {
   "codemirror_mode": {
    "name": "ipython",
    "version": 3
   },
   "file_extension": ".py",
   "mimetype": "text/x-python",
   "name": "python",
   "nbconvert_exporter": "python",
   "pygments_lexer": "ipython3",
   "version": "3.9.7"
  },
  "orig_nbformat": 4
 },
 "nbformat": 4,
 "nbformat_minor": 2
}
